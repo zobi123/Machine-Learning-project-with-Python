{
 "cells": [
  {
   "cell_type": "markdown",
   "metadata": {},
   "source": [
    "# importing librarires"
   ]
  },
  {
   "cell_type": "code",
   "execution_count": 1,
   "metadata": {},
   "outputs": [],
   "source": [
    "import pandas as pd\n",
    "import numpy as np\n",
    "import seaborn as sns\n",
    "import matplotlib.pyplot as plt\n",
    "%matplotlib inline"
   ]
  },
  {
   "cell_type": "code",
   "execution_count": 2,
   "metadata": {},
   "outputs": [],
   "source": [
    "from sklearn.model_selection import train_test_split\n",
    "from sklearn.ensemble import RandomForestClassifier\n",
    "from sklearn.metrics import accuracy_score, roc_auc_score\n",
    "from sklearn.metrics import precision_score, recall_score, f1_score      # evaluation metrics\n",
    "from sklearn.metrics import roc_curve\n",
    "from sklearn.metrics import roc_auc_score\n",
    "from sklearn.preprocessing import StandardScaler\n",
    "from sklearn.metrics import plot_confusion_matrix\n",
    "from mlxtend.plotting import plot_decision_regions\n",
    "from sklearn.model_selection import cross_val_predict"
   ]
  },
  {
   "cell_type": "code",
   "execution_count": 3,
   "metadata": {},
   "outputs": [],
   "source": [
    "#df=pd.read_table('parkinsons.data', sep=',')\n",
    "df=pd.read_csv('pd_speech_features.csv')"
   ]
  },
  {
   "cell_type": "code",
   "execution_count": 4,
   "metadata": {},
   "outputs": [
    {
     "data": {
      "text/html": [
       "<div>\n",
       "<style scoped>\n",
       "    .dataframe tbody tr th:only-of-type {\n",
       "        vertical-align: middle;\n",
       "    }\n",
       "\n",
       "    .dataframe tbody tr th {\n",
       "        vertical-align: top;\n",
       "    }\n",
       "\n",
       "    .dataframe thead th {\n",
       "        text-align: right;\n",
       "    }\n",
       "</style>\n",
       "<table border=\"1\" class=\"dataframe\">\n",
       "  <thead>\n",
       "    <tr style=\"text-align: right;\">\n",
       "      <th></th>\n",
       "      <th>id</th>\n",
       "      <th>gender</th>\n",
       "      <th>PPE</th>\n",
       "      <th>DFA</th>\n",
       "      <th>RPDE</th>\n",
       "      <th>numPulses</th>\n",
       "      <th>numPeriodsPulses</th>\n",
       "      <th>meanPeriodPulses</th>\n",
       "      <th>stdDevPeriodPulses</th>\n",
       "      <th>locPctJitter</th>\n",
       "      <th>...</th>\n",
       "      <th>tqwt_kurtosisValue_dec_28</th>\n",
       "      <th>tqwt_kurtosisValue_dec_29</th>\n",
       "      <th>tqwt_kurtosisValue_dec_30</th>\n",
       "      <th>tqwt_kurtosisValue_dec_31</th>\n",
       "      <th>tqwt_kurtosisValue_dec_32</th>\n",
       "      <th>tqwt_kurtosisValue_dec_33</th>\n",
       "      <th>tqwt_kurtosisValue_dec_34</th>\n",
       "      <th>tqwt_kurtosisValue_dec_35</th>\n",
       "      <th>tqwt_kurtosisValue_dec_36</th>\n",
       "      <th>class</th>\n",
       "    </tr>\n",
       "  </thead>\n",
       "  <tbody>\n",
       "    <tr>\n",
       "      <th>0</th>\n",
       "      <td>0</td>\n",
       "      <td>1</td>\n",
       "      <td>0.85247</td>\n",
       "      <td>0.71826</td>\n",
       "      <td>0.57227</td>\n",
       "      <td>240</td>\n",
       "      <td>239</td>\n",
       "      <td>0.008064</td>\n",
       "      <td>0.000087</td>\n",
       "      <td>0.00218</td>\n",
       "      <td>...</td>\n",
       "      <td>1.5620</td>\n",
       "      <td>2.6445</td>\n",
       "      <td>3.8686</td>\n",
       "      <td>4.2105</td>\n",
       "      <td>5.1221</td>\n",
       "      <td>4.4625</td>\n",
       "      <td>2.6202</td>\n",
       "      <td>3.0004</td>\n",
       "      <td>18.9405</td>\n",
       "      <td>1</td>\n",
       "    </tr>\n",
       "    <tr>\n",
       "      <th>1</th>\n",
       "      <td>0</td>\n",
       "      <td>1</td>\n",
       "      <td>0.76686</td>\n",
       "      <td>0.69481</td>\n",
       "      <td>0.53966</td>\n",
       "      <td>234</td>\n",
       "      <td>233</td>\n",
       "      <td>0.008258</td>\n",
       "      <td>0.000073</td>\n",
       "      <td>0.00195</td>\n",
       "      <td>...</td>\n",
       "      <td>1.5589</td>\n",
       "      <td>3.6107</td>\n",
       "      <td>23.5155</td>\n",
       "      <td>14.1962</td>\n",
       "      <td>11.0261</td>\n",
       "      <td>9.5082</td>\n",
       "      <td>6.5245</td>\n",
       "      <td>6.3431</td>\n",
       "      <td>45.1780</td>\n",
       "      <td>1</td>\n",
       "    </tr>\n",
       "    <tr>\n",
       "      <th>2</th>\n",
       "      <td>0</td>\n",
       "      <td>1</td>\n",
       "      <td>0.85083</td>\n",
       "      <td>0.67604</td>\n",
       "      <td>0.58982</td>\n",
       "      <td>232</td>\n",
       "      <td>231</td>\n",
       "      <td>0.008340</td>\n",
       "      <td>0.000060</td>\n",
       "      <td>0.00176</td>\n",
       "      <td>...</td>\n",
       "      <td>1.5643</td>\n",
       "      <td>2.3308</td>\n",
       "      <td>9.4959</td>\n",
       "      <td>10.7458</td>\n",
       "      <td>11.0177</td>\n",
       "      <td>4.8066</td>\n",
       "      <td>2.9199</td>\n",
       "      <td>3.1495</td>\n",
       "      <td>4.7666</td>\n",
       "      <td>1</td>\n",
       "    </tr>\n",
       "    <tr>\n",
       "      <th>3</th>\n",
       "      <td>1</td>\n",
       "      <td>0</td>\n",
       "      <td>0.41121</td>\n",
       "      <td>0.79672</td>\n",
       "      <td>0.59257</td>\n",
       "      <td>178</td>\n",
       "      <td>177</td>\n",
       "      <td>0.010858</td>\n",
       "      <td>0.000183</td>\n",
       "      <td>0.00419</td>\n",
       "      <td>...</td>\n",
       "      <td>3.7805</td>\n",
       "      <td>3.5664</td>\n",
       "      <td>5.2558</td>\n",
       "      <td>14.0403</td>\n",
       "      <td>4.2235</td>\n",
       "      <td>4.6857</td>\n",
       "      <td>4.8460</td>\n",
       "      <td>6.2650</td>\n",
       "      <td>4.0603</td>\n",
       "      <td>1</td>\n",
       "    </tr>\n",
       "    <tr>\n",
       "      <th>4</th>\n",
       "      <td>1</td>\n",
       "      <td>0</td>\n",
       "      <td>0.32790</td>\n",
       "      <td>0.79782</td>\n",
       "      <td>0.53028</td>\n",
       "      <td>236</td>\n",
       "      <td>235</td>\n",
       "      <td>0.008162</td>\n",
       "      <td>0.002669</td>\n",
       "      <td>0.00535</td>\n",
       "      <td>...</td>\n",
       "      <td>6.1727</td>\n",
       "      <td>5.8416</td>\n",
       "      <td>6.0805</td>\n",
       "      <td>5.7621</td>\n",
       "      <td>7.7817</td>\n",
       "      <td>11.6891</td>\n",
       "      <td>8.2103</td>\n",
       "      <td>5.0559</td>\n",
       "      <td>6.1164</td>\n",
       "      <td>1</td>\n",
       "    </tr>\n",
       "  </tbody>\n",
       "</table>\n",
       "<p>5 rows × 755 columns</p>\n",
       "</div>"
      ],
      "text/plain": [
       "   id  gender      PPE      DFA     RPDE  numPulses  numPeriodsPulses  \\\n",
       "0   0       1  0.85247  0.71826  0.57227        240               239   \n",
       "1   0       1  0.76686  0.69481  0.53966        234               233   \n",
       "2   0       1  0.85083  0.67604  0.58982        232               231   \n",
       "3   1       0  0.41121  0.79672  0.59257        178               177   \n",
       "4   1       0  0.32790  0.79782  0.53028        236               235   \n",
       "\n",
       "   meanPeriodPulses  stdDevPeriodPulses  locPctJitter  ...  \\\n",
       "0          0.008064            0.000087       0.00218  ...   \n",
       "1          0.008258            0.000073       0.00195  ...   \n",
       "2          0.008340            0.000060       0.00176  ...   \n",
       "3          0.010858            0.000183       0.00419  ...   \n",
       "4          0.008162            0.002669       0.00535  ...   \n",
       "\n",
       "   tqwt_kurtosisValue_dec_28  tqwt_kurtosisValue_dec_29  \\\n",
       "0                     1.5620                     2.6445   \n",
       "1                     1.5589                     3.6107   \n",
       "2                     1.5643                     2.3308   \n",
       "3                     3.7805                     3.5664   \n",
       "4                     6.1727                     5.8416   \n",
       "\n",
       "   tqwt_kurtosisValue_dec_30  tqwt_kurtosisValue_dec_31  \\\n",
       "0                     3.8686                     4.2105   \n",
       "1                    23.5155                    14.1962   \n",
       "2                     9.4959                    10.7458   \n",
       "3                     5.2558                    14.0403   \n",
       "4                     6.0805                     5.7621   \n",
       "\n",
       "   tqwt_kurtosisValue_dec_32  tqwt_kurtosisValue_dec_33  \\\n",
       "0                     5.1221                     4.4625   \n",
       "1                    11.0261                     9.5082   \n",
       "2                    11.0177                     4.8066   \n",
       "3                     4.2235                     4.6857   \n",
       "4                     7.7817                    11.6891   \n",
       "\n",
       "   tqwt_kurtosisValue_dec_34  tqwt_kurtosisValue_dec_35  \\\n",
       "0                     2.6202                     3.0004   \n",
       "1                     6.5245                     6.3431   \n",
       "2                     2.9199                     3.1495   \n",
       "3                     4.8460                     6.2650   \n",
       "4                     8.2103                     5.0559   \n",
       "\n",
       "   tqwt_kurtosisValue_dec_36  class  \n",
       "0                    18.9405      1  \n",
       "1                    45.1780      1  \n",
       "2                     4.7666      1  \n",
       "3                     4.0603      1  \n",
       "4                     6.1164      1  \n",
       "\n",
       "[5 rows x 755 columns]"
      ]
     },
     "execution_count": 4,
     "metadata": {},
     "output_type": "execute_result"
    }
   ],
   "source": [
    "df.head()"
   ]
  },
  {
   "cell_type": "code",
   "execution_count": 5,
   "metadata": {},
   "outputs": [
    {
     "name": "stdout",
     "output_type": "stream",
     "text": [
      "<class 'pandas.core.frame.DataFrame'>\n",
      "RangeIndex: 756 entries, 0 to 755\n",
      "Columns: 755 entries, id to class\n",
      "dtypes: float64(749), int64(6)\n",
      "memory usage: 4.4 MB\n"
     ]
    }
   ],
   "source": [
    "df.info()"
   ]
  },
  {
   "cell_type": "code",
   "execution_count": 6,
   "metadata": {},
   "outputs": [
    {
     "data": {
      "text/plain": [
       "(756, 755)"
      ]
     },
     "execution_count": 6,
     "metadata": {},
     "output_type": "execute_result"
    }
   ],
   "source": [
    "df.shape"
   ]
  },
  {
   "cell_type": "code",
   "execution_count": 7,
   "metadata": {},
   "outputs": [],
   "source": [
    "df.drop('id',axis=1, inplace=True)"
   ]
  },
  {
   "cell_type": "code",
   "execution_count": 8,
   "metadata": {},
   "outputs": [
    {
     "data": {
      "text/plain": [
       "gender                       0\n",
       "PPE                          0\n",
       "DFA                          0\n",
       "RPDE                         0\n",
       "numPulses                    0\n",
       "                            ..\n",
       "tqwt_kurtosisValue_dec_33    0\n",
       "tqwt_kurtosisValue_dec_34    0\n",
       "tqwt_kurtosisValue_dec_35    0\n",
       "tqwt_kurtosisValue_dec_36    0\n",
       "class                        0\n",
       "Length: 754, dtype: int64"
      ]
     },
     "execution_count": 8,
     "metadata": {},
     "output_type": "execute_result"
    }
   ],
   "source": [
    "df.isna().sum()"
   ]
  },
  {
   "cell_type": "code",
   "execution_count": 9,
   "metadata": {},
   "outputs": [
    {
     "data": {
      "text/plain": [
       "1"
      ]
     },
     "execution_count": 9,
     "metadata": {},
     "output_type": "execute_result"
    }
   ],
   "source": [
    "df.duplicated().sum()"
   ]
  },
  {
   "cell_type": "code",
   "execution_count": 10,
   "metadata": {},
   "outputs": [],
   "source": [
    "df=df.drop_duplicates()"
   ]
  },
  {
   "cell_type": "code",
   "execution_count": 11,
   "metadata": {},
   "outputs": [
    {
     "data": {
      "text/plain": [
       "1    563\n",
       "0    192\n",
       "Name: class, dtype: int64"
      ]
     },
     "execution_count": 11,
     "metadata": {},
     "output_type": "execute_result"
    }
   ],
   "source": [
    "#df.status.value_counts()\n",
    "df['class'].value_counts()"
   ]
  },
  {
   "cell_type": "code",
   "execution_count": 12,
   "metadata": {},
   "outputs": [
    {
     "data": {
      "text/plain": [
       "<matplotlib.axes._subplots.AxesSubplot at 0x2ac3e95bd08>"
      ]
     },
     "execution_count": 12,
     "metadata": {},
     "output_type": "execute_result"
    },
    {
     "data": {
      "image/png": "[encoded data removed]",
      "text/plain": [
       "<Figure size 432x288 with 1 Axes>"
      ]
     },
     "metadata": {
      "needs_background": "light"
     },
     "output_type": "display_data"
    }
   ],
   "source": [
    "import seaborn as sns\n",
    "sns.countplot(df['class'])"
   ]
  },
  {
   "cell_type": "markdown",
   "metadata": {},
   "source": [
    "# Remvol of correlated feature"
   ]
  },
  {
   "cell_type": "code",
   "execution_count": 13,
   "metadata": {},
   "outputs": [],
   "source": [
    "correlated_features = set()\n",
    "correlation_matrix = df.drop('class', axis=1).corr()\n",
    "\n",
    "for i in range(len(correlation_matrix.columns)):\n",
    "    for j in range(i):\n",
    "        if abs(correlation_matrix.iloc[i, j]) > 0.8:\n",
    "            colname = correlation_matrix.columns[i]\n",
    "            correlated_features.add(colname)"
   ]
  },
  {
   "cell_type": "code",
   "execution_count": 14,
   "metadata": {},
   "outputs": [
    {
     "data": {
      "text/plain": [
       "{'Ea2',\n",
       " 'Ed2_10_coef',\n",
       " 'Ed2_1_coef',\n",
       " 'Ed2_2_coef',\n",
       " 'Ed2_3_coef',\n",
       " 'Ed2_4_coef',\n",
       " 'Ed2_5_coef',\n",
       " 'Ed2_6_coef',\n",
       " 'Ed2_7_coef',\n",
       " 'Ed2_8_coef',\n",
       " 'Ed2_9_coef',\n",
       " 'Ed_10_coef',\n",
       " 'Ed_2_coef',\n",
       " 'Ed_3_coef',\n",
       " 'Ed_5_coef',\n",
       " 'Ed_6_coef',\n",
       " 'Ed_8_coef',\n",
       " 'Ed_9_coef',\n",
       " 'GNE_NSR_TKEO',\n",
       " 'IMF_NSR_entropy',\n",
       " 'VFER_entropy',\n",
       " 'app_LT_TKEO_mean_10_coef',\n",
       " 'app_LT_TKEO_mean_2_coef',\n",
       " 'app_LT_TKEO_mean_3_coef',\n",
       " 'app_LT_TKEO_mean_4_coef',\n",
       " 'app_LT_TKEO_mean_5_coef',\n",
       " 'app_LT_TKEO_mean_6_coef',\n",
       " 'app_LT_TKEO_mean_7_coef',\n",
       " 'app_LT_TKEO_mean_8_coef',\n",
       " 'app_LT_TKEO_mean_9_coef',\n",
       " 'app_LT_TKEO_std_10_coef',\n",
       " 'app_LT_TKEO_std_1_coef',\n",
       " 'app_LT_TKEO_std_2_coef',\n",
       " 'app_LT_TKEO_std_3_coef',\n",
       " 'app_LT_TKEO_std_4_coef',\n",
       " 'app_LT_TKEO_std_5_coef',\n",
       " 'app_LT_TKEO_std_6_coef',\n",
       " 'app_LT_TKEO_std_7_coef',\n",
       " 'app_LT_TKEO_std_8_coef',\n",
       " 'app_LT_TKEO_std_9_coef',\n",
       " 'app_LT_entropy_log_10_coef',\n",
       " 'app_LT_entropy_log_1_coef',\n",
       " 'app_LT_entropy_log_2_coef',\n",
       " 'app_LT_entropy_log_3_coef',\n",
       " 'app_LT_entropy_log_4_coef',\n",
       " 'app_LT_entropy_log_5_coef',\n",
       " 'app_LT_entropy_log_6_coef',\n",
       " 'app_LT_entropy_log_7_coef',\n",
       " 'app_LT_entropy_log_8_coef',\n",
       " 'app_LT_entropy_log_9_coef',\n",
       " 'app_LT_entropy_shannon_10_coef',\n",
       " 'app_LT_entropy_shannon_1_coef',\n",
       " 'app_LT_entropy_shannon_2_coef',\n",
       " 'app_LT_entropy_shannon_3_coef',\n",
       " 'app_LT_entropy_shannon_4_coef',\n",
       " 'app_LT_entropy_shannon_5_coef',\n",
       " 'app_LT_entropy_shannon_6_coef',\n",
       " 'app_LT_entropy_shannon_7_coef',\n",
       " 'app_LT_entropy_shannon_8_coef',\n",
       " 'app_LT_entropy_shannon_9_coef',\n",
       " 'app_TKEO_std_10_coef',\n",
       " 'app_TKEO_std_1_coef',\n",
       " 'app_TKEO_std_2_coef',\n",
       " 'app_TKEO_std_3_coef',\n",
       " 'app_TKEO_std_4_coef',\n",
       " 'app_TKEO_std_5_coef',\n",
       " 'app_TKEO_std_6_coef',\n",
       " 'app_TKEO_std_7_coef',\n",
       " 'app_TKEO_std_8_coef',\n",
       " 'app_TKEO_std_9_coef',\n",
       " 'app_det_TKEO_mean_10_coef',\n",
       " 'app_det_TKEO_mean_1_coef',\n",
       " 'app_det_TKEO_mean_2_coef',\n",
       " 'app_det_TKEO_mean_3_coef',\n",
       " 'app_det_TKEO_mean_4_coef',\n",
       " 'app_det_TKEO_mean_5_coef',\n",
       " 'app_det_TKEO_mean_6_coef',\n",
       " 'app_det_TKEO_mean_7_coef',\n",
       " 'app_det_TKEO_mean_8_coef',\n",
       " 'app_det_TKEO_mean_9_coef',\n",
       " 'app_entropy_log_10_coef',\n",
       " 'app_entropy_log_2_coef',\n",
       " 'app_entropy_log_3_coef',\n",
       " 'app_entropy_log_4_coef',\n",
       " 'app_entropy_log_5_coef',\n",
       " 'app_entropy_log_6_coef',\n",
       " 'app_entropy_log_7_coef',\n",
       " 'app_entropy_log_8_coef',\n",
       " 'app_entropy_log_9_coef',\n",
       " 'app_entropy_shannon_10_coef',\n",
       " 'app_entropy_shannon_1_coef',\n",
       " 'app_entropy_shannon_2_coef',\n",
       " 'app_entropy_shannon_3_coef',\n",
       " 'app_entropy_shannon_4_coef',\n",
       " 'app_entropy_shannon_5_coef',\n",
       " 'app_entropy_shannon_6_coef',\n",
       " 'app_entropy_shannon_7_coef',\n",
       " 'app_entropy_shannon_8_coef',\n",
       " 'app_entropy_shannon_9_coef',\n",
       " 'apq11Shimmer',\n",
       " 'apq3Shimmer',\n",
       " 'apq5Shimmer',\n",
       " 'ddaShimmer',\n",
       " 'ddpJitter',\n",
       " 'det_LT_TKEO_mean_10_coef',\n",
       " 'det_LT_TKEO_mean_1_coef',\n",
       " 'det_LT_TKEO_mean_2_coef',\n",
       " 'det_LT_TKEO_mean_3_coef',\n",
       " 'det_LT_TKEO_mean_4_coef',\n",
       " 'det_LT_TKEO_mean_5_coef',\n",
       " 'det_LT_TKEO_mean_6_coef',\n",
       " 'det_LT_TKEO_mean_7_coef',\n",
       " 'det_LT_TKEO_mean_8_coef',\n",
       " 'det_LT_TKEO_mean_9_coef',\n",
       " 'det_LT_TKEO_std_10_coef',\n",
       " 'det_LT_TKEO_std_1_coef',\n",
       " 'det_LT_TKEO_std_2_coef',\n",
       " 'det_LT_TKEO_std_3_coef',\n",
       " 'det_LT_TKEO_std_4_coef',\n",
       " 'det_LT_TKEO_std_5_coef',\n",
       " 'det_LT_TKEO_std_6_coef',\n",
       " 'det_LT_TKEO_std_7_coef',\n",
       " 'det_LT_TKEO_std_8_coef',\n",
       " 'det_LT_TKEO_std_9_coef',\n",
       " 'det_LT_entropy_log_10_coef',\n",
       " 'det_LT_entropy_log_1_coef',\n",
       " 'det_LT_entropy_log_2_coef',\n",
       " 'det_LT_entropy_log_3_coef',\n",
       " 'det_LT_entropy_log_4_coef',\n",
       " 'det_LT_entropy_log_5_coef',\n",
       " 'det_LT_entropy_log_6_coef',\n",
       " 'det_LT_entropy_log_7_coef',\n",
       " 'det_LT_entropy_log_8_coef',\n",
       " 'det_LT_entropy_log_9_coef',\n",
       " 'det_LT_entropy_shannon_10_coef',\n",
       " 'det_LT_entropy_shannon_5_coef',\n",
       " 'det_LT_entropy_shannon_6_coef',\n",
       " 'det_LT_entropy_shannon_7_coef',\n",
       " 'det_LT_entropy_shannon_8_coef',\n",
       " 'det_LT_entropy_shannon_9_coef',\n",
       " 'det_TKEO_mean_10_coef',\n",
       " 'det_TKEO_mean_1_coef',\n",
       " 'det_TKEO_mean_2_coef',\n",
       " 'det_TKEO_mean_3_coef',\n",
       " 'det_TKEO_mean_4_coef',\n",
       " 'det_TKEO_mean_5_coef',\n",
       " 'det_TKEO_mean_6_coef',\n",
       " 'det_TKEO_mean_7_coef',\n",
       " 'det_TKEO_mean_8_coef',\n",
       " 'det_TKEO_mean_9_coef',\n",
       " 'det_TKEO_std_10_coef',\n",
       " 'det_TKEO_std_1_coef',\n",
       " 'det_TKEO_std_2_coef',\n",
       " 'det_TKEO_std_3_coef',\n",
       " 'det_TKEO_std_4_coef',\n",
       " 'det_TKEO_std_5_coef',\n",
       " 'det_TKEO_std_6_coef',\n",
       " 'det_TKEO_std_7_coef',\n",
       " 'det_TKEO_std_8_coef',\n",
       " 'det_TKEO_std_9_coef',\n",
       " 'det_entropy_log_10_coef',\n",
       " 'det_entropy_log_2_coef',\n",
       " 'det_entropy_log_3_coef',\n",
       " 'det_entropy_log_4_coef',\n",
       " 'det_entropy_log_5_coef',\n",
       " 'det_entropy_log_6_coef',\n",
       " 'det_entropy_log_7_coef',\n",
       " 'det_entropy_log_8_coef',\n",
       " 'det_entropy_log_9_coef',\n",
       " 'det_entropy_shannon_10_coef',\n",
       " 'det_entropy_shannon_1_coef',\n",
       " 'det_entropy_shannon_2_coef',\n",
       " 'det_entropy_shannon_3_coef',\n",
       " 'det_entropy_shannon_5_coef',\n",
       " 'det_entropy_shannon_8_coef',\n",
       " 'locAbsJitter',\n",
       " 'locDbShimmer',\n",
       " 'maxIntensity',\n",
       " 'meanHarmToNoiseHarmonicity',\n",
       " 'meanIntensity',\n",
       " 'meanNoiseToHarmHarmonicity',\n",
       " 'meanPeriodPulses',\n",
       " 'mean_0th_delta',\n",
       " 'numPeriodsPulses',\n",
       " 'ppq5Jitter',\n",
       " 'rapJitter',\n",
       " 'std_0th_delta',\n",
       " 'std_10th_delta',\n",
       " 'std_10th_delta_delta',\n",
       " 'std_11th_delta_delta',\n",
       " 'std_12th_delta_delta',\n",
       " 'std_1st_delta',\n",
       " 'std_1st_delta_delta',\n",
       " 'std_2nd_delta_delta',\n",
       " 'std_3rd_delta',\n",
       " 'std_3rd_delta_delta',\n",
       " 'std_4th_delta',\n",
       " 'std_4th_delta_delta',\n",
       " 'std_5th_delta',\n",
       " 'std_5th_delta_delta',\n",
       " 'std_6th_delta',\n",
       " 'std_6th_delta_delta',\n",
       " 'std_7th_delta',\n",
       " 'std_7th_delta_delta',\n",
       " 'std_8th_delta',\n",
       " 'std_8th_delta_delta',\n",
       " 'std_9th_delta_delta',\n",
       " 'std_MFCC_0th_coef',\n",
       " 'std_delta_delta_0th',\n",
       " 'std_delta_delta_log_energy',\n",
       " 'std_delta_log_energy',\n",
       " 'tqwt_TKEO_mean_dec_1',\n",
       " 'tqwt_TKEO_mean_dec_10',\n",
       " 'tqwt_TKEO_mean_dec_11',\n",
       " 'tqwt_TKEO_mean_dec_12',\n",
       " 'tqwt_TKEO_mean_dec_13',\n",
       " 'tqwt_TKEO_mean_dec_14',\n",
       " 'tqwt_TKEO_mean_dec_15',\n",
       " 'tqwt_TKEO_mean_dec_16',\n",
       " 'tqwt_TKEO_mean_dec_2',\n",
       " 'tqwt_TKEO_mean_dec_27',\n",
       " 'tqwt_TKEO_mean_dec_28',\n",
       " 'tqwt_TKEO_mean_dec_29',\n",
       " 'tqwt_TKEO_mean_dec_3',\n",
       " 'tqwt_TKEO_mean_dec_30',\n",
       " 'tqwt_TKEO_mean_dec_32',\n",
       " 'tqwt_TKEO_mean_dec_33',\n",
       " 'tqwt_TKEO_mean_dec_34',\n",
       " 'tqwt_TKEO_mean_dec_35',\n",
       " 'tqwt_TKEO_mean_dec_4',\n",
       " 'tqwt_TKEO_mean_dec_5',\n",
       " 'tqwt_TKEO_mean_dec_6',\n",
       " 'tqwt_TKEO_mean_dec_7',\n",
       " 'tqwt_TKEO_mean_dec_8',\n",
       " 'tqwt_TKEO_mean_dec_9',\n",
       " 'tqwt_TKEO_std_dec_1',\n",
       " 'tqwt_TKEO_std_dec_10',\n",
       " 'tqwt_TKEO_std_dec_11',\n",
       " 'tqwt_TKEO_std_dec_12',\n",
       " 'tqwt_TKEO_std_dec_13',\n",
       " 'tqwt_TKEO_std_dec_14',\n",
       " 'tqwt_TKEO_std_dec_15',\n",
       " 'tqwt_TKEO_std_dec_16',\n",
       " 'tqwt_TKEO_std_dec_17',\n",
       " 'tqwt_TKEO_std_dec_18',\n",
       " 'tqwt_TKEO_std_dec_19',\n",
       " 'tqwt_TKEO_std_dec_2',\n",
       " 'tqwt_TKEO_std_dec_20',\n",
       " 'tqwt_TKEO_std_dec_21',\n",
       " 'tqwt_TKEO_std_dec_22',\n",
       " 'tqwt_TKEO_std_dec_23',\n",
       " 'tqwt_TKEO_std_dec_24',\n",
       " 'tqwt_TKEO_std_dec_25',\n",
       " 'tqwt_TKEO_std_dec_26',\n",
       " 'tqwt_TKEO_std_dec_27',\n",
       " 'tqwt_TKEO_std_dec_28',\n",
       " 'tqwt_TKEO_std_dec_29',\n",
       " 'tqwt_TKEO_std_dec_3',\n",
       " 'tqwt_TKEO_std_dec_30',\n",
       " 'tqwt_TKEO_std_dec_31',\n",
       " 'tqwt_TKEO_std_dec_32',\n",
       " 'tqwt_TKEO_std_dec_33',\n",
       " 'tqwt_TKEO_std_dec_34',\n",
       " 'tqwt_TKEO_std_dec_35',\n",
       " 'tqwt_TKEO_std_dec_36',\n",
       " 'tqwt_TKEO_std_dec_4',\n",
       " 'tqwt_TKEO_std_dec_5',\n",
       " 'tqwt_TKEO_std_dec_6',\n",
       " 'tqwt_TKEO_std_dec_7',\n",
       " 'tqwt_TKEO_std_dec_8',\n",
       " 'tqwt_TKEO_std_dec_9',\n",
       " 'tqwt_energy_dec_10',\n",
       " 'tqwt_energy_dec_11',\n",
       " 'tqwt_energy_dec_13',\n",
       " 'tqwt_energy_dec_14',\n",
       " 'tqwt_energy_dec_15',\n",
       " 'tqwt_energy_dec_16',\n",
       " 'tqwt_energy_dec_2',\n",
       " 'tqwt_energy_dec_3',\n",
       " 'tqwt_energy_dec_30',\n",
       " 'tqwt_energy_dec_33',\n",
       " 'tqwt_energy_dec_34',\n",
       " 'tqwt_energy_dec_36',\n",
       " 'tqwt_energy_dec_4',\n",
       " 'tqwt_energy_dec_6',\n",
       " 'tqwt_energy_dec_7',\n",
       " 'tqwt_energy_dec_8',\n",
       " 'tqwt_entropy_log_dec_10',\n",
       " 'tqwt_entropy_log_dec_11',\n",
       " 'tqwt_entropy_log_dec_12',\n",
       " 'tqwt_entropy_log_dec_13',\n",
       " 'tqwt_entropy_log_dec_14',\n",
       " 'tqwt_entropy_log_dec_15',\n",
       " 'tqwt_entropy_log_dec_16',\n",
       " 'tqwt_entropy_log_dec_17',\n",
       " 'tqwt_entropy_log_dec_18',\n",
       " 'tqwt_entropy_log_dec_19',\n",
       " 'tqwt_entropy_log_dec_2',\n",
       " 'tqwt_entropy_log_dec_20',\n",
       " 'tqwt_entropy_log_dec_21',\n",
       " 'tqwt_entropy_log_dec_22',\n",
       " 'tqwt_entropy_log_dec_28',\n",
       " 'tqwt_entropy_log_dec_29',\n",
       " 'tqwt_entropy_log_dec_3',\n",
       " 'tqwt_entropy_log_dec_31',\n",
       " 'tqwt_entropy_log_dec_32',\n",
       " 'tqwt_entropy_log_dec_33',\n",
       " 'tqwt_entropy_log_dec_34',\n",
       " 'tqwt_entropy_log_dec_35',\n",
       " 'tqwt_entropy_log_dec_36',\n",
       " 'tqwt_entropy_log_dec_4',\n",
       " 'tqwt_entropy_log_dec_5',\n",
       " 'tqwt_entropy_log_dec_6',\n",
       " 'tqwt_entropy_log_dec_7',\n",
       " 'tqwt_entropy_log_dec_8',\n",
       " 'tqwt_entropy_log_dec_9',\n",
       " 'tqwt_entropy_shannon_dec_10',\n",
       " 'tqwt_entropy_shannon_dec_11',\n",
       " 'tqwt_entropy_shannon_dec_12',\n",
       " 'tqwt_entropy_shannon_dec_13',\n",
       " 'tqwt_entropy_shannon_dec_14',\n",
       " 'tqwt_entropy_shannon_dec_15',\n",
       " 'tqwt_entropy_shannon_dec_16',\n",
       " 'tqwt_entropy_shannon_dec_17',\n",
       " 'tqwt_entropy_shannon_dec_19',\n",
       " 'tqwt_entropy_shannon_dec_2',\n",
       " 'tqwt_entropy_shannon_dec_3',\n",
       " 'tqwt_entropy_shannon_dec_33',\n",
       " 'tqwt_entropy_shannon_dec_35',\n",
       " 'tqwt_entropy_shannon_dec_4',\n",
       " 'tqwt_entropy_shannon_dec_5',\n",
       " 'tqwt_entropy_shannon_dec_6',\n",
       " 'tqwt_entropy_shannon_dec_7',\n",
       " 'tqwt_entropy_shannon_dec_8',\n",
       " 'tqwt_entropy_shannon_dec_9',\n",
       " 'tqwt_kurtosisValue_dec_10',\n",
       " 'tqwt_kurtosisValue_dec_14',\n",
       " 'tqwt_kurtosisValue_dec_15',\n",
       " 'tqwt_kurtosisValue_dec_17',\n",
       " 'tqwt_kurtosisValue_dec_18',\n",
       " 'tqwt_kurtosisValue_dec_19',\n",
       " 'tqwt_kurtosisValue_dec_2',\n",
       " 'tqwt_kurtosisValue_dec_29',\n",
       " 'tqwt_kurtosisValue_dec_3',\n",
       " 'tqwt_kurtosisValue_dec_31',\n",
       " 'tqwt_kurtosisValue_dec_32',\n",
       " 'tqwt_kurtosisValue_dec_33',\n",
       " 'tqwt_kurtosisValue_dec_34',\n",
       " 'tqwt_kurtosisValue_dec_35',\n",
       " 'tqwt_kurtosisValue_dec_36',\n",
       " 'tqwt_kurtosisValue_dec_4',\n",
       " 'tqwt_kurtosisValue_dec_5',\n",
       " 'tqwt_kurtosisValue_dec_6',\n",
       " 'tqwt_kurtosisValue_dec_9',\n",
       " 'tqwt_maxValue_dec_1',\n",
       " 'tqwt_maxValue_dec_10',\n",
       " 'tqwt_maxValue_dec_11',\n",
       " 'tqwt_maxValue_dec_12',\n",
       " 'tqwt_maxValue_dec_13',\n",
       " 'tqwt_maxValue_dec_14',\n",
       " 'tqwt_maxValue_dec_15',\n",
       " 'tqwt_maxValue_dec_16',\n",
       " 'tqwt_maxValue_dec_17',\n",
       " 'tqwt_maxValue_dec_18',\n",
       " 'tqwt_maxValue_dec_19',\n",
       " 'tqwt_maxValue_dec_2',\n",
       " 'tqwt_maxValue_dec_20',\n",
       " 'tqwt_maxValue_dec_21',\n",
       " 'tqwt_maxValue_dec_22',\n",
       " 'tqwt_maxValue_dec_23',\n",
       " 'tqwt_maxValue_dec_24',\n",
       " 'tqwt_maxValue_dec_25',\n",
       " 'tqwt_maxValue_dec_26',\n",
       " 'tqwt_maxValue_dec_27',\n",
       " 'tqwt_maxValue_dec_28',\n",
       " 'tqwt_maxValue_dec_29',\n",
       " 'tqwt_maxValue_dec_3',\n",
       " 'tqwt_maxValue_dec_30',\n",
       " 'tqwt_maxValue_dec_31',\n",
       " 'tqwt_maxValue_dec_32',\n",
       " 'tqwt_maxValue_dec_33',\n",
       " 'tqwt_maxValue_dec_34',\n",
       " 'tqwt_maxValue_dec_35',\n",
       " 'tqwt_maxValue_dec_36',\n",
       " 'tqwt_maxValue_dec_4',\n",
       " 'tqwt_maxValue_dec_5',\n",
       " 'tqwt_maxValue_dec_6',\n",
       " 'tqwt_maxValue_dec_7',\n",
       " 'tqwt_maxValue_dec_8',\n",
       " 'tqwt_maxValue_dec_9',\n",
       " 'tqwt_meanValue_dec_33',\n",
       " 'tqwt_meanValue_dec_36',\n",
       " 'tqwt_minValue_dec_10',\n",
       " 'tqwt_minValue_dec_11',\n",
       " 'tqwt_minValue_dec_12',\n",
       " 'tqwt_minValue_dec_13',\n",
       " 'tqwt_minValue_dec_14',\n",
       " 'tqwt_minValue_dec_15',\n",
       " 'tqwt_minValue_dec_16',\n",
       " 'tqwt_minValue_dec_17',\n",
       " 'tqwt_minValue_dec_18',\n",
       " 'tqwt_minValue_dec_19',\n",
       " 'tqwt_minValue_dec_2',\n",
       " 'tqwt_minValue_dec_20',\n",
       " 'tqwt_minValue_dec_21',\n",
       " 'tqwt_minValue_dec_22',\n",
       " 'tqwt_minValue_dec_23',\n",
       " 'tqwt_minValue_dec_24',\n",
       " 'tqwt_minValue_dec_25',\n",
       " 'tqwt_minValue_dec_26',\n",
       " 'tqwt_minValue_dec_27',\n",
       " 'tqwt_minValue_dec_28',\n",
       " 'tqwt_minValue_dec_29',\n",
       " 'tqwt_minValue_dec_3',\n",
       " 'tqwt_minValue_dec_30',\n",
       " 'tqwt_minValue_dec_31',\n",
       " 'tqwt_minValue_dec_32',\n",
       " 'tqwt_minValue_dec_33',\n",
       " 'tqwt_minValue_dec_34',\n",
       " 'tqwt_minValue_dec_35',\n",
       " 'tqwt_minValue_dec_36',\n",
       " 'tqwt_minValue_dec_4',\n",
       " 'tqwt_minValue_dec_5',\n",
       " 'tqwt_minValue_dec_6',\n",
       " 'tqwt_minValue_dec_7',\n",
       " 'tqwt_minValue_dec_8',\n",
       " 'tqwt_minValue_dec_9',\n",
       " 'tqwt_skewnessValue_dec_10',\n",
       " 'tqwt_skewnessValue_dec_2',\n",
       " 'tqwt_skewnessValue_dec_29',\n",
       " 'tqwt_skewnessValue_dec_32',\n",
       " 'tqwt_skewnessValue_dec_33',\n",
       " 'tqwt_skewnessValue_dec_34',\n",
       " 'tqwt_skewnessValue_dec_35',\n",
       " 'tqwt_skewnessValue_dec_36',\n",
       " 'tqwt_skewnessValue_dec_4',\n",
       " 'tqwt_stdValue_dec_1',\n",
       " 'tqwt_stdValue_dec_10',\n",
       " 'tqwt_stdValue_dec_11',\n",
       " 'tqwt_stdValue_dec_12',\n",
       " 'tqwt_stdValue_dec_13',\n",
       " 'tqwt_stdValue_dec_14',\n",
       " 'tqwt_stdValue_dec_15',\n",
       " 'tqwt_stdValue_dec_16',\n",
       " 'tqwt_stdValue_dec_17',\n",
       " 'tqwt_stdValue_dec_18',\n",
       " 'tqwt_stdValue_dec_19',\n",
       " 'tqwt_stdValue_dec_2',\n",
       " 'tqwt_stdValue_dec_20',\n",
       " 'tqwt_stdValue_dec_21',\n",
       " 'tqwt_stdValue_dec_22',\n",
       " 'tqwt_stdValue_dec_23',\n",
       " 'tqwt_stdValue_dec_24',\n",
       " 'tqwt_stdValue_dec_25',\n",
       " 'tqwt_stdValue_dec_26',\n",
       " 'tqwt_stdValue_dec_27',\n",
       " 'tqwt_stdValue_dec_28',\n",
       " 'tqwt_stdValue_dec_29',\n",
       " 'tqwt_stdValue_dec_3',\n",
       " 'tqwt_stdValue_dec_30',\n",
       " 'tqwt_stdValue_dec_31',\n",
       " 'tqwt_stdValue_dec_32',\n",
       " 'tqwt_stdValue_dec_33',\n",
       " 'tqwt_stdValue_dec_34',\n",
       " 'tqwt_stdValue_dec_35',\n",
       " 'tqwt_stdValue_dec_36',\n",
       " 'tqwt_stdValue_dec_4',\n",
       " 'tqwt_stdValue_dec_5',\n",
       " 'tqwt_stdValue_dec_6',\n",
       " 'tqwt_stdValue_dec_7',\n",
       " 'tqwt_stdValue_dec_8',\n",
       " 'tqwt_stdValue_dec_9'}"
      ]
     },
     "execution_count": 14,
     "metadata": {},
     "output_type": "execute_result"
    }
   ],
   "source": [
    "correlated_features\n"
   ]
  },
  {
   "cell_type": "code",
   "execution_count": 15,
   "metadata": {},
   "outputs": [
    {
     "data": {
      "text/plain": [
       "472"
      ]
     },
     "execution_count": 15,
     "metadata": {},
     "output_type": "execute_result"
    }
   ],
   "source": [
    "len(correlated_features)"
   ]
  },
  {
   "cell_type": "code",
   "execution_count": 16,
   "metadata": {},
   "outputs": [],
   "source": [
    "df.drop(correlated_features, axis=1, inplace=True)\n"
   ]
  },
  {
   "cell_type": "code",
   "execution_count": 17,
   "metadata": {},
   "outputs": [
    {
     "data": {
      "text/plain": [
       "(755, 282)"
      ]
     },
     "execution_count": 17,
     "metadata": {},
     "output_type": "execute_result"
    }
   ],
   "source": [
    "df.shape"
   ]
  },
  {
   "cell_type": "markdown",
   "metadata": {},
   "source": [
    "# Balancing the dataset"
   ]
  },
  {
   "cell_type": "code",
   "execution_count": 18,
   "metadata": {},
   "outputs": [],
   "source": [
    "from sklearn.utils import resample"
   ]
  },
  {
   "cell_type": "code",
   "execution_count": 19,
   "metadata": {},
   "outputs": [],
   "source": [
    "# Separate majority and minority classes\n",
    "df_majority = df[df['class']==1]\n",
    "df_minority = df[df['class']==0]\n",
    " "
   ]
  },
  {
   "cell_type": "code",
   "execution_count": 20,
   "metadata": {},
   "outputs": [
    {
     "data": {
      "text/plain": [
       "1    563\n",
       "0    563\n",
       "Name: class, dtype: int64"
      ]
     },
     "execution_count": 20,
     "metadata": {},
     "output_type": "execute_result"
    }
   ],
   "source": [
    "# Upsample minority class\n",
    "df_minority_upsampled = resample(df_minority, \n",
    "                                 replace=True,     # sample with replacement\n",
    "                                 n_samples=563,    # to match majority class\n",
    "                                 random_state=123) # reproducible results\n",
    " \n",
    "# Combine majority class with upsampled minority class\n",
    "df_upsampled = pd.concat([df_majority, df_minority_upsampled])\n",
    " \n",
    "# Display new class counts\n",
    "df_upsampled['class'].value_counts()"
   ]
  },
  {
   "cell_type": "code",
   "execution_count": 21,
   "metadata": {},
   "outputs": [
    {
     "data": {
      "text/plain": [
       "gender                       0\n",
       "PPE                          0\n",
       "DFA                          0\n",
       "RPDE                         0\n",
       "numPulses                    0\n",
       "                            ..\n",
       "tqwt_kurtosisValue_dec_26    0\n",
       "tqwt_kurtosisValue_dec_27    0\n",
       "tqwt_kurtosisValue_dec_28    0\n",
       "tqwt_kurtosisValue_dec_30    0\n",
       "class                        0\n",
       "Length: 282, dtype: int64"
      ]
     },
     "execution_count": 21,
     "metadata": {},
     "output_type": "execute_result"
    }
   ],
   "source": [
    "df_upsampled.isna().sum()"
   ]
  },
  {
   "cell_type": "code",
   "execution_count": 22,
   "metadata": {},
   "outputs": [],
   "source": [
    "X=df_upsampled.drop('class', axis=1)\n",
    "X.values\n",
    "y=df_upsampled['class'].values\n"
   ]
  },
  {
   "cell_type": "code",
   "execution_count": 23,
   "metadata": {},
   "outputs": [],
   "source": [
    "from sklearn.model_selection import KFold\n",
    "from sklearn.preprocessing import MinMaxScaler\n",
    "scaler = MinMaxScaler(feature_range=(0, 1))\n",
    "X = scaler.fit_transform(X)"
   ]
  },
  {
   "cell_type": "code",
   "execution_count": 24,
   "metadata": {},
   "outputs": [],
   "source": [
    "# Split into train and test sets\n",
    "random_seed=123\n",
    "X_train, X_test, y_train, y_test = train_test_split(X, y, test_size=0.3)"
   ]
  },
  {
   "cell_type": "markdown",
   "metadata": {},
   "source": [
    "# Feature Dimention Reduction by PCA or Is it a Classifier"
   ]
  },
  {
   "cell_type": "code",
   "execution_count": 25,
   "metadata": {},
   "outputs": [],
   "source": [
    "from sklearn.decomposition import PCA"
   ]
  },
  {
   "cell_type": "markdown",
   "metadata": {},
   "source": [
    "# Cross validation"
   ]
  },
  {
   "cell_type": "code",
   "execution_count": 26,
   "metadata": {},
   "outputs": [],
   "source": [
    "from sklearn.model_selection import cross_val_score\n"
   ]
  },
  {
   "cell_type": "markdown",
   "metadata": {},
   "source": [
    "# Random Forest Model_PCA"
   ]
  },
  {
   "cell_type": "code",
   "execution_count": 27,
   "metadata": {},
   "outputs": [
    {
     "data": {
      "text/plain": [
       "PCA(copy=True, iterated_power='auto', n_components=8, random_state=42,\n",
       "    svd_solver='auto', tol=0.0, whiten=False)"
      ]
     },
     "execution_count": 27,
     "metadata": {},
     "output_type": "execute_result"
    }
   ],
   "source": [
    "pca = PCA(n_components=8, random_state=42)\n",
    "pca.fit(X_train)"
   ]
  },
  {
   "cell_type": "code",
   "execution_count": 28,
   "metadata": {},
   "outputs": [],
   "source": [
    "X_train_pca = pca.transform(X_train)\n",
    "X_test_pca = pca.transform(X_test)\n",
    "X_train_pca.shape, X_test_pca.shape\n",
    "X=X_test_pca\n",
    "y=y_test"
   ]
  },
  {
   "cell_type": "code",
   "execution_count": 29,
   "metadata": {},
   "outputs": [],
   "source": [
    "rf=RandomForestClassifier()\n"
   ]
  },
  {
   "cell_type": "code",
   "execution_count": 30,
   "metadata": {},
   "outputs": [],
   "source": [
    "rf.fit(X_train_pca, y_train)\n",
    "y_pred=rf.predict(X_test_pca)\n",
    "\n",
    "y_pred = cross_val_predict(rf, X, y, cv=5)"
   ]
  },
  {
   "cell_type": "code",
   "execution_count": 31,
   "metadata": {},
   "outputs": [
    {
     "name": "stdout",
     "output_type": "stream",
     "text": [
      "The cross-validated accuracy is: 0.840%\n"
     ]
    }
   ],
   "source": [
    "np.random.seed(42)\n",
    "cv_acc = cross_val_score(rf, X, y, cv=5, scoring=\"accuracy\")\n",
    "print(f\"The cross-validated accuracy is: {np.mean(cv_acc):.3f}%\")"
   ]
  },
  {
   "cell_type": "code",
   "execution_count": 32,
   "metadata": {},
   "outputs": [
    {
     "name": "stdout",
     "output_type": "stream",
     "text": [
      "The cross-validated precision is: 0.869\n"
     ]
    }
   ],
   "source": [
    "np.random.seed(42)\n",
    "cv_precision = cross_val_score(rf, X, y, cv=5, scoring=\"precision\")\n",
    "print(f\"The cross-validated precision is: {np.mean(cv_precision):.3f}\")"
   ]
  },
  {
   "cell_type": "code",
   "execution_count": 33,
   "metadata": {},
   "outputs": [
    {
     "name": "stdout",
     "output_type": "stream",
     "text": [
      "The cross-validated recall is: 0.794\n"
     ]
    }
   ],
   "source": [
    "np.random.seed(42)\n",
    "cv_recall = cross_val_score(rf, X, y, cv=5, scoring=\"recall\")\n",
    "print(f\"The cross-validated recall is: {np.mean(cv_recall):.3f}\")"
   ]
  },
  {
   "cell_type": "code",
   "execution_count": 34,
   "metadata": {},
   "outputs": [
    {
     "name": "stdout",
     "output_type": "stream",
     "text": [
      "The cross-validated F1 score is: 0.828\n"
     ]
    }
   ],
   "source": [
    "np.random.seed(42)\n",
    "cv_f1 = cross_val_score(rf, X, y, cv=5, scoring=\"f1\")\n",
    "print(f\"The cross-validated F1 score is: {np.mean(cv_f1):.3f}\")"
   ]
  },
  {
   "cell_type": "code",
   "execution_count": 35,
   "metadata": {},
   "outputs": [
    {
     "name": "stdout",
     "output_type": "stream",
     "text": [
      "[[146  27]\n",
      " [ 34 131]]\n"
     ]
    }
   ],
   "source": [
    "from sklearn.metrics import confusion_matrix\n",
    "conf_mat = confusion_matrix(y, y_pred)\n",
    "print(conf_mat)"
   ]
  },
  {
   "cell_type": "code",
   "execution_count": 36,
   "metadata": {},
   "outputs": [
    {
     "data": {
      "image/png": "[encoded data removed]",
      "text/plain": [
       "<Figure size 360x360 with 2 Axes>"
      ]
     },
     "metadata": {
      "needs_background": "light"
     },
     "output_type": "display_data"
    }
   ],
   "source": [
    "#confusion matrix visualization\n",
    "import seaborn as sns\n",
    "import matplotlib.pyplot as plt\n",
    "\n",
    "f, ax=plt.subplots(figsize=(5,5))\n",
    "sns.heatmap(conf_mat,annot=True,linewidths=0.7,linecolor=\"red\",fmt=\".0f\",ax=ax)\n",
    "plt.xlabel(\"y_pred\")\n",
    "plt.ylabel(\"y_true\")\n",
    "plt.show()"
   ]
  },
  {
   "cell_type": "markdown",
   "metadata": {},
   "source": [
    "# KNN-PCA"
   ]
  },
  {
   "cell_type": "code",
   "execution_count": 37,
   "metadata": {},
   "outputs": [
    {
     "data": {
      "text/plain": [
       "PCA(copy=True, iterated_power='auto', n_components=8, random_state=42,\n",
       "    svd_solver='auto', tol=0.0, whiten=False)"
      ]
     },
     "execution_count": 37,
     "metadata": {},
     "output_type": "execute_result"
    }
   ],
   "source": [
    "pca = PCA(n_components=8, random_state=42)\n",
    "pca.fit(X_train)"
   ]
  },
  {
   "cell_type": "code",
   "execution_count": 38,
   "metadata": {},
   "outputs": [
    {
     "data": {
      "text/plain": [
       "((788, 8), (338, 8))"
      ]
     },
     "execution_count": 38,
     "metadata": {},
     "output_type": "execute_result"
    }
   ],
   "source": [
    "X_train_pca = pca.transform(X_train)\n",
    "X_test_pca = pca.transform(X_test)\n",
    "X_train_pca.shape, X_test_pca.shape"
   ]
  },
  {
   "cell_type": "code",
   "execution_count": 39,
   "metadata": {},
   "outputs": [],
   "source": [
    "from sklearn.neighbors import KNeighborsClassifier\n",
    "knn=KNeighborsClassifier(n_neighbors=5)\n",
    "knn.fit(X_train_pca, y_train)\n",
    "knn_pred=cross_val_predict(rf, X, y, cv=5)"
   ]
  },
  {
   "cell_type": "code",
   "execution_count": 40,
   "metadata": {},
   "outputs": [
    {
     "name": "stdout",
     "output_type": "stream",
     "text": [
      "The cross-validated accuracy is: 0.713%\n"
     ]
    }
   ],
   "source": [
    "np.random.seed(42)\n",
    "cv_acc = cross_val_score(knn, X, y, cv=5, scoring=\"accuracy\")\n",
    "print(f\"The cross-validated accuracy is: {np.mean(cv_acc):.3f}%\")"
   ]
  },
  {
   "cell_type": "code",
   "execution_count": 41,
   "metadata": {},
   "outputs": [
    {
     "name": "stdout",
     "output_type": "stream",
     "text": [
      "The cross-validated precision is: 0.730\n"
     ]
    }
   ],
   "source": [
    "np.random.seed(42)\n",
    "cv_precision = cross_val_score(knn, X, y, cv=5, scoring=\"precision\")\n",
    "print(f\"The cross-validated precision is: {np.mean(cv_precision):.3f}\")"
   ]
  },
  {
   "cell_type": "code",
   "execution_count": 42,
   "metadata": {},
   "outputs": [
    {
     "name": "stdout",
     "output_type": "stream",
     "text": [
      "The cross-validated recall is: 0.667\n"
     ]
    }
   ],
   "source": [
    "np.random.seed(42)\n",
    "cv_recall = cross_val_score(knn, X, y, cv=5, scoring=\"recall\")\n",
    "print(f\"The cross-validated recall is: {np.mean(cv_recall):.3f}\")"
   ]
  },
  {
   "cell_type": "code",
   "execution_count": 43,
   "metadata": {},
   "outputs": [
    {
     "name": "stdout",
     "output_type": "stream",
     "text": [
      "The cross-validated F1 score is: 0.694\n"
     ]
    }
   ],
   "source": [
    "np.random.seed(42)\n",
    "cv_f1 = cross_val_score(knn, X, y, cv=5, scoring=\"f1\")\n",
    "print(f\"The cross-validated F1 score is: {np.mean(cv_f1):.3f}\")"
   ]
  },
  {
   "cell_type": "code",
   "execution_count": 44,
   "metadata": {},
   "outputs": [
    {
     "name": "stdout",
     "output_type": "stream",
     "text": [
      "[[158  15]\n",
      " [ 35 130]]\n"
     ]
    }
   ],
   "source": [
    "from sklearn.metrics import confusion_matrix\n",
    "knn_pred_conf_mat = confusion_matrix(y, knn_pred)\n",
    "print(knn_pred_conf_mat)"
   ]
  },
  {
   "cell_type": "code",
   "execution_count": 45,
   "metadata": {},
   "outputs": [
    {
     "data": {
      "image/png": "[encoded data removed]",
      "text/plain": [
       "<Figure size 360x360 with 2 Axes>"
      ]
     },
     "metadata": {
      "needs_background": "light"
     },
     "output_type": "display_data"
    }
   ],
   "source": [
    "#confusion matrix visualization\n",
    "import seaborn as sns\n",
    "import matplotlib.pyplot as plt\n",
    "\n",
    "f, ax=plt.subplots(figsize=(5,5))\n",
    "sns.heatmap(knn_pred_conf_mat,annot=True,linewidths=0.7,linecolor=\"red\",fmt=\".0f\",ax=ax)\n",
    "plt.xlabel(\"y_pred\")\n",
    "plt.ylabel(\"y_true\")\n",
    "plt.show()"
   ]
  },
  {
   "cell_type": "markdown",
   "metadata": {},
   "source": [
    "# Logistic Regression"
   ]
  },
  {
   "cell_type": "code",
   "execution_count": 46,
   "metadata": {},
   "outputs": [],
   "source": [
    "from sklearn.linear_model import LogisticRegression"
   ]
  },
  {
   "cell_type": "markdown",
   "metadata": {},
   "source": [
    "# PCA"
   ]
  },
  {
   "cell_type": "code",
   "execution_count": 47,
   "metadata": {},
   "outputs": [],
   "source": [
    "from sklearn.decomposition import PCA"
   ]
  },
  {
   "cell_type": "code",
   "execution_count": 48,
   "metadata": {},
   "outputs": [
    {
     "data": {
      "text/plain": [
       "PCA(copy=True, iterated_power='auto', n_components=8, random_state=42,\n",
       "    svd_solver='auto', tol=0.0, whiten=False)"
      ]
     },
     "execution_count": 48,
     "metadata": {},
     "output_type": "execute_result"
    }
   ],
   "source": [
    "pca = PCA(n_components=8, random_state=42)\n",
    "pca.fit(X_train)"
   ]
  },
  {
   "cell_type": "code",
   "execution_count": 49,
   "metadata": {},
   "outputs": [
    {
     "data": {
      "text/plain": [
       "((788, 8), (338, 8))"
      ]
     },
     "execution_count": 49,
     "metadata": {},
     "output_type": "execute_result"
    }
   ],
   "source": [
    "X_train_pca = pca.transform(X_train)\n",
    "X_test_pca = pca.transform(X_test)\n",
    "X_train_pca.shape, X_test_pca.shape"
   ]
  },
  {
   "cell_type": "code",
   "execution_count": 50,
   "metadata": {},
   "outputs": [],
   "source": [
    "lr_pca= LogisticRegression()\n",
    "lr_pca.fit(X_train_pca,y_train)\n",
    "lr_pred=cross_val_predict(lr_pca, X, y, cv=5)"
   ]
  },
  {
   "cell_type": "code",
   "execution_count": 51,
   "metadata": {},
   "outputs": [
    {
     "name": "stdout",
     "output_type": "stream",
     "text": [
      "The cross-validated accuracy is: 0.793%\n"
     ]
    }
   ],
   "source": [
    "np.random.seed(42)\n",
    "cv_acc = cross_val_score(lr_pca, X, y, cv=5, scoring=\"accuracy\")\n",
    "print(f\"The cross-validated accuracy is: {np.mean(cv_acc):.3f}%\")"
   ]
  },
  {
   "cell_type": "code",
   "execution_count": 52,
   "metadata": {},
   "outputs": [
    {
     "name": "stdout",
     "output_type": "stream",
     "text": [
      "The cross-validated precision is: 0.801\n"
     ]
    }
   ],
   "source": [
    "np.random.seed(42)\n",
    "cv_precision = cross_val_score(lr_pca, X, y, cv=5, scoring=\"precision\")\n",
    "print(f\"The cross-validated precision is: {np.mean(cv_precision):.3f}\")"
   ]
  },
  {
   "cell_type": "code",
   "execution_count": 53,
   "metadata": {},
   "outputs": [
    {
     "name": "stdout",
     "output_type": "stream",
     "text": [
      "The cross-validated recall is: 0.764\n"
     ]
    }
   ],
   "source": [
    "np.random.seed(42)\n",
    "cv_recall = cross_val_score(lr_pca, X, y, cv=5, scoring=\"recall\")\n",
    "print(f\"The cross-validated recall is: {np.mean(cv_recall):.3f}\")"
   ]
  },
  {
   "cell_type": "code",
   "execution_count": 54,
   "metadata": {},
   "outputs": [
    {
     "name": "stdout",
     "output_type": "stream",
     "text": [
      "The cross-validated F1 score is: 0.782\n"
     ]
    }
   ],
   "source": [
    "np.random.seed(42)\n",
    "cv_f1 = cross_val_score(lr_pca, X, y, cv=5, scoring=\"f1\")\n",
    "print(f\"The cross-validated F1 score is: {np.mean(cv_f1):.3f}\")"
   ]
  },
  {
   "cell_type": "code",
   "execution_count": 55,
   "metadata": {},
   "outputs": [
    {
     "name": "stdout",
     "output_type": "stream",
     "text": [
      "[[142  31]\n",
      " [ 39 126]]\n"
     ]
    }
   ],
   "source": [
    "from sklearn.metrics import confusion_matrix\n",
    "lr_pred_conf_mat = confusion_matrix(y, lr_pred)\n",
    "print(lr_pred_conf_mat)"
   ]
  },
  {
   "cell_type": "code",
   "execution_count": 56,
   "metadata": {},
   "outputs": [
    {
     "data": {
      "image/png": "[encoded data removed]",
      "text/plain": [
       "<Figure size 360x360 with 2 Axes>"
      ]
     },
     "metadata": {
      "needs_background": "light"
     },
     "output_type": "display_data"
    }
   ],
   "source": [
    "#confusion matrix visualization\n",
    "import seaborn as sns\n",
    "import matplotlib.pyplot as plt\n",
    "\n",
    "f, ax=plt.subplots(figsize=(5,5))\n",
    "sns.heatmap(lr_pred_conf_mat,annot=True,linewidths=0.7,linecolor=\"red\",fmt=\".0f\",ax=ax)\n",
    "plt.xlabel(\"y_pred\")\n",
    "plt.ylabel(\"y_true\")\n",
    "plt.show()"
   ]
  },
  {
   "cell_type": "markdown",
   "metadata": {},
   "source": [
    "# Adaboost"
   ]
  },
  {
   "cell_type": "code",
   "execution_count": 57,
   "metadata": {},
   "outputs": [],
   "source": [
    "from sklearn.ensemble import AdaBoostClassifier"
   ]
  },
  {
   "cell_type": "markdown",
   "metadata": {},
   "source": [
    "# PCA"
   ]
  },
  {
   "cell_type": "code",
   "execution_count": 58,
   "metadata": {},
   "outputs": [],
   "source": [
    "from sklearn.decomposition import PCA"
   ]
  },
  {
   "cell_type": "code",
   "execution_count": 59,
   "metadata": {},
   "outputs": [
    {
     "data": {
      "text/plain": [
       "PCA(copy=True, iterated_power='auto', n_components=8, random_state=42,\n",
       "    svd_solver='auto', tol=0.0, whiten=False)"
      ]
     },
     "execution_count": 59,
     "metadata": {},
     "output_type": "execute_result"
    }
   ],
   "source": [
    "pca = PCA(n_components=8, random_state=42)\n",
    "pca.fit(X_train)"
   ]
  },
  {
   "cell_type": "code",
   "execution_count": 60,
   "metadata": {},
   "outputs": [
    {
     "data": {
      "text/plain": [
       "((788, 8), (338, 8))"
      ]
     },
     "execution_count": 60,
     "metadata": {},
     "output_type": "execute_result"
    }
   ],
   "source": [
    "X_train_pca = pca.transform(X_train)\n",
    "X_test_pca = pca.transform(X_test)\n",
    "X_train_pca.shape, X_test_pca.shape"
   ]
  },
  {
   "cell_type": "code",
   "execution_count": 61,
   "metadata": {},
   "outputs": [],
   "source": [
    "adaboost_pca = AdaBoostClassifier(n_estimators=50,\n",
    "                         learning_rate=1)\n"
   ]
  },
  {
   "cell_type": "code",
   "execution_count": 62,
   "metadata": {},
   "outputs": [],
   "source": [
    "\n",
    "adaboost_pca.fit(X_train_pca, y_train)\n",
    "adaboost_pca_pred=cross_val_predict(adaboost_pca, X, y, cv=5)"
   ]
  },
  {
   "cell_type": "code",
   "execution_count": 63,
   "metadata": {},
   "outputs": [
    {
     "name": "stdout",
     "output_type": "stream",
     "text": [
      "The cross-validated accuracy is: 0.713%\n"
     ]
    }
   ],
   "source": [
    "np.random.seed(42)\n",
    "cv_acc = cross_val_score(knn, X, y, cv=5, scoring=\"accuracy\")\n",
    "print(f\"The cross-validated accuracy is: {np.mean(cv_acc):.3f}%\")"
   ]
  },
  {
   "cell_type": "code",
   "execution_count": 64,
   "metadata": {},
   "outputs": [
    {
     "name": "stdout",
     "output_type": "stream",
     "text": [
      "The cross-validated precision is: 0.822\n"
     ]
    }
   ],
   "source": [
    "np.random.seed(42)\n",
    "cv_precision = cross_val_score(adaboost_pca, X, y, cv=5, scoring=\"precision\")\n",
    "print(f\"The cross-validated precision is: {np.mean(cv_precision):.3f}\")"
   ]
  },
  {
   "cell_type": "code",
   "execution_count": 65,
   "metadata": {},
   "outputs": [
    {
     "name": "stdout",
     "output_type": "stream",
     "text": [
      "The cross-validated recall is: 0.794\n"
     ]
    }
   ],
   "source": [
    "np.random.seed(42)\n",
    "cv_recall = cross_val_score(adaboost_pca, X, y, cv=5, scoring=\"recall\")\n",
    "print(f\"The cross-validated recall is: {np.mean(cv_recall):.3f}\")"
   ]
  },
  {
   "cell_type": "code",
   "execution_count": 66,
   "metadata": {},
   "outputs": [
    {
     "name": "stdout",
     "output_type": "stream",
     "text": [
      "The cross-validated F1 score is: 0.806\n"
     ]
    }
   ],
   "source": [
    "np.random.seed(42)\n",
    "cv_f1 = cross_val_score(adaboost_pca, X, y, cv=5, scoring=\"f1\")\n",
    "print(f\"The cross-validated F1 score is: {np.mean(cv_f1):.3f}\")"
   ]
  },
  {
   "cell_type": "code",
   "execution_count": 67,
   "metadata": {},
   "outputs": [
    {
     "name": "stdout",
     "output_type": "stream",
     "text": [
      "[[144  29]\n",
      " [ 34 131]]\n"
     ]
    }
   ],
   "source": [
    "from sklearn.metrics import confusion_matrix\n",
    "adaboost_pca_pred_conf_mat = confusion_matrix(y, adaboost_pca_pred)\n",
    "print(adaboost_pca_pred_conf_mat)"
   ]
  },
  {
   "cell_type": "code",
   "execution_count": 68,
   "metadata": {},
   "outputs": [
    {
     "data": {
      "image/png": "[encoded data removed]",
      "text/plain": [
       "<Figure size 360x360 with 2 Axes>"
      ]
     },
     "metadata": {
      "needs_background": "light"
     },
     "output_type": "display_data"
    }
   ],
   "source": [
    "#confusion matrix visualization\n",
    "import seaborn as sns\n",
    "import matplotlib.pyplot as plt\n",
    "\n",
    "f, ax=plt.subplots(figsize=(5,5))\n",
    "sns.heatmap(adaboost_pca_pred_conf_mat,annot=True,linewidths=0.7,linecolor=\"red\",fmt=\".0f\",ax=ax)\n",
    "plt.xlabel(\"y_pred\")\n",
    "plt.ylabel(\"y_true\")\n",
    "plt.show()"
   ]
  },
  {
   "cell_type": "code",
   "execution_count": null,
   "metadata": {},
   "outputs": [],
   "source": []
  },
  {
   "cell_type": "code",
   "execution_count": 69,
   "metadata": {},
   "outputs": [],
   "source": [
    "# Import the classifiers\n",
    "from sklearn.linear_model import LogisticRegression\n",
    "from sklearn.neighbors import KNeighborsClassifier\n",
    "from sklearn.ensemble import RandomForestClassifier\n",
    "from sklearn.ensemble import AdaBoostClassifier,GradientBoostingClassifier\n",
    "from sklearn.metrics import roc_curve, roc_auc_score\n",
    "\n",
    "# Instantiate the classfiers and make a list\n",
    "classifiers = [LogisticRegression(random_state=1234), \n",
    "               AdaBoostClassifier(n_estimators=50,\n",
    "                         learning_rate=1), \n",
    "               KNeighborsClassifier(), \n",
    "               RandomForestClassifier(random_state=1234)]\n"
   ]
  },
  {
   "cell_type": "code",
   "execution_count": 70,
   "metadata": {},
   "outputs": [
    {
     "data": {
      "image/png": "[encoded data removed]",
      "text/plain": [
       "<Figure size 576x432 with 1 Axes>"
      ]
     },
     "metadata": {
      "needs_background": "light"
     },
     "output_type": "display_data"
    }
   ],
   "source": [
    "# Define a result table as a DataFrame\n",
    "result_table = pd.DataFrame(columns=['classifiers', 'fpr','tpr','auc'])\n",
    "\n",
    "# Train the models and record the results\n",
    "for cls in classifiers:\n",
    "    model = cls.fit(X_train_pca, y_train)\n",
    "    yproba = model.predict_proba(X_test_pca)[::,1]\n",
    "    \n",
    "    fpr, tpr, _ = roc_curve(y_test,  yproba)\n",
    "    auc = roc_auc_score(y_test, yproba)\n",
    "    \n",
    "    result_table = result_table.append({'classifiers':cls.__class__.__name__,\n",
    "                                        'fpr':fpr, \n",
    "                                        'tpr':tpr, \n",
    "                                        'auc':auc}, ignore_index=True)\n",
    "\n",
    "# Set name of the classifiers as index labels\n",
    "result_table.set_index('classifiers', inplace=True)\n",
    "#Plot the figure\n",
    "fig = plt.figure(figsize=(8,6))\n",
    "\n",
    "for i in result_table.index:\n",
    "    plt.plot(result_table.loc[i]['fpr'], \n",
    "             result_table.loc[i]['tpr'], \n",
    "             label=\"{}, AUC={:.3f}\".format(i, result_table.loc[i]['auc']))\n",
    "    \n",
    "plt.plot([0,1], [0,1], color='orange', linestyle='--')\n",
    "\n",
    "plt.xticks(np.arange(0.0, 1.1, step=0.1))\n",
    "plt.xlabel(\"Flase Positive Rate\", fontsize=15)\n",
    "\n",
    "plt.yticks(np.arange(0.0, 1.1, step=0.1))\n",
    "plt.ylabel(\"True Positive Rate\", fontsize=15)\n",
    "\n",
    "plt.title('ROC Curve Analysis', fontweight='bold', fontsize=15)\n",
    "plt.legend(prop={'size':13}, loc='lower right')\n",
    "\n",
    "plt.show()"
   ]
  },
  {
   "cell_type": "code",
   "execution_count": null,
   "metadata": {},
   "outputs": [],
   "source": []
  },
  {
   "cell_type": "code",
   "execution_count": null,
   "metadata": {},
   "outputs": [],
   "source": []
  },
  {
   "cell_type": "code",
   "execution_count": null,
   "metadata": {},
   "outputs": [],
   "source": []
  },
  {
   "cell_type": "code",
   "execution_count": null,
   "metadata": {},
   "outputs": [],
   "source": []
  },
  {
   "cell_type": "code",
   "execution_count": null,
   "metadata": {},
   "outputs": [],
   "source": []
  },
  {
   "cell_type": "code",
   "execution_count": null,
   "metadata": {},
   "outputs": [],
   "source": []
  }
 ],
 "metadata": {
  "kernelspec": {
   "display_name": "Python 3",
   "language": "python",
   "name": "python3"
  },
  "language_info": {
   "codemirror_mode": {
    "name": "ipython",
    "version": 3
   },
   "file_extension": ".py",
   "mimetype": "text/x-python",
   "name": "python",
   "nbconvert_exporter": "python",
   "pygments_lexer": "ipython3",
   "version": "3.7.6"
  }
 },
 "nbformat": 4,
 "nbformat_minor": 4
}
